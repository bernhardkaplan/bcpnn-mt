{
 "metadata": {
  "name": ""
 },
 "nbformat": 3,
 "nbformat_minor": 0,
 "worksheets": [
  {
   "cells": [
    {
     "cell_type": "code",
     "collapsed": false,
     "input": [
      "import numpy as np\n",
      "import utils\n",
      "folder_name = 'TrainingSim_Cluster__50x2x1_0-100_taui50_nHC20_nMC2_vtrain1.00-1.0'\n",
      "params = utils.load_params(folder_name)"
     ],
     "language": "python",
     "metadata": {},
     "outputs": [],
     "prompt_number": 1
    },
    {
     "cell_type": "code",
     "collapsed": false,
     "input": [
      "conn_list_fn = params['merged_conn_list_ee']\n",
      "utils.merge_connection_files(params, 'ee')"
     ],
     "language": "python",
     "metadata": {},
     "outputs": [
      {
       "metadata": {},
       "output_type": "pyout",
       "prompt_number": 2,
       "text": [
        "u'TrainingSim_Cluster__50x2x1_0-100_taui50_nHC20_nMC2_vtrain1.00-1.0/Connections/merged_conn_list_ee.dat'"
       ]
      }
     ],
     "prompt_number": 2
    },
    {
     "cell_type": "code",
     "collapsed": false,
     "input": [
      "d = np.loadtxt(conn_list_fn)\n",
      "tp = np.loadtxt(params['tuning_prop_exc_fn'])"
     ],
     "language": "python",
     "metadata": {},
     "outputs": [],
     "prompt_number": 3
    },
    {
     "cell_type": "code",
     "collapsed": false,
     "input": [
      "# deteremine which gids to use as source (target)\n",
      "#gid = 1\n",
      "conn_idx = 0 # conn_idx => target perspective\n",
      "feature_radius = 20.\n",
      "feature_tgt = [0.] # could be all values here --> no filtering\n",
      "filtered_gids = np.array([])\n",
      "for v_tgt in feature_tgt:\n",
      "    gids = np.where(utils.torus_distance_array(tp[:, 4], v_tgt, w=180) < feature_radius)[0] + 1 # nest gids expected later --> + 1\n",
      "    filtered_gids = np.r_[gids]\n",
      "    print 'gids size', gids.size\n",
      "filtered_gids = np.unique(filtered_gids)    \n",
      "print 'filtered_gids:', filtered_gids.size, params['n_exc']"
     ],
     "language": "python",
     "metadata": {},
     "outputs": [
      {
       "output_type": "stream",
       "stream": "stdout",
       "text": [
        "gids size 160\n",
        "filtered_gids: 160 320\n"
       ]
      }
     ],
     "prompt_number": 10
    },
    {
     "cell_type": "code",
     "collapsed": false,
     "input": [
      "all_distances = np.array([])\n",
      "all_weights = np.array([])\n",
      "#filtered_gids = np.array([161])\n",
      "#print tp[filtered_gids-1, :]\n",
      "\n",
      "for gid in filtered_gids:\n",
      "    idx = np.where(d[:, conn_idx] == gid)[0]\n",
      "    other_gids = np.array(d[idx, (conn_idx + 1) % 2], dtype=np.int)\n",
      "    filtered_within_other_gids = np.where(utils.torus_distance_array(tp[other_gids - 1, 4], tp[gid-1, 4], w=180.) < feature_radius)[0]\n",
      "    filtered_other_gids = other_gids[filtered_within_other_gids]\n",
      "    d_ = utils.get_targets(d, gid)\n",
      "    for i_, ogid in enumerate(filtered_other_gids):\n",
      "        idx = np.where(d_[:, (conn_idx+1)%2] == ogid)[0]\n",
      "        all_distances = np.r_[all_distances, tp[gid-1, 0] - tp[ogid-1,0]]\n",
      "        all_weights = np.r_[all_weights, d_[idx, 2]]"
     ],
     "language": "python",
     "metadata": {},
     "outputs": [],
     "prompt_number": 11
    },
    {
     "cell_type": "code",
     "collapsed": false,
     "input": [
      "xbins = np.linspace(-1., 1., 21, endpoint=True)\n",
      "binwidth = 0.15\n",
      "avg_weight = np.zeros((xbins.size, 2))\n",
      "for i_, xbin in enumerate(xbins):\n",
      "    idx = np.where(np.abs(all_distances - xbin) < binwidth)[0]\n",
      "    if idx.size > 0:\n",
      "        avg_weight[i_, 0] = all_weights[idx].mean()\n",
      "        avg_weight[i_, 1] = all_weights[idx].std()\n",
      "        avg_weight[i_, 1] /= np.sqrt(idx.size)\n",
      "    else:\n",
      "        print xbin, 'none found'\n",
      "            \n",
      "print all_distances\n",
      "    \n",
      "pylab.errorbar(xbins, avg_weight[:, 0], yerr=avg_weight[:, 1])\n",
      "output_fn = params['data_folder'] + 'average_weights_vs_distance.dat'\n",
      "output_array = np.array((xbins, avg_weight[:, 0], avg_weight[:, 1]))\n",
      "print 'Saving output data to:', output_fn\n",
      "np.savetxt(output_fn, output_array.transpose())"
     ],
     "language": "python",
     "metadata": {},
     "outputs": [
      {
       "output_type": "stream",
       "stream": "stdout",
       "text": [
        "[-0.28036863 -0.2905193  -0.29315753 ...,  0.66805559  0.64592128\n",
        "  0.66640672]\n",
        "Saving output data to:"
       ]
      },
      {
       "output_type": "stream",
       "stream": "stdout",
       "text": [
        " TrainingSim_Cluster__50x2x1_0-100_taui50_nHC20_nMC2_vtrain1.00-1.0/Data/average_weights_vs_distance.dat\n"
       ]
      },
      {
       "metadata": {},
       "output_type": "display_data",
       "png": "[encoded data removed]",
       "text": [
        "<matplotlib.figure.Figure at 0x7f4031872450>"
       ]
      }
     ],
     "prompt_number": 14
    },
    {
     "cell_type": "code",
     "collapsed": false,
     "input": [],
     "language": "python",
     "metadata": {},
     "outputs": []
    }
   ],
   "metadata": {}
  }
 ]
}