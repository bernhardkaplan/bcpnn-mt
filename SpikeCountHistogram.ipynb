{
 "metadata": {
  "name": ""
 },
 "nbformat": 3,
 "nbformat_minor": 0,
 "worksheets": [
  {
   "cells": [
    {
     "cell_type": "code",
     "collapsed": false,
     "input": [
      "import numpy as np\n",
      "import utils"
     ],
     "language": "python",
     "metadata": {},
     "outputs": [],
     "prompt_number": 2
    },
    {
     "cell_type": "code",
     "collapsed": false,
     "input": [
      "folder = 'TrainingSim_Cluster_singleOrientation_1x50x1_0-50_taui100_nHC20_nMC2_vstim0.3'\n",
      "params = utils.load_params(folder)"
     ],
     "language": "python",
     "metadata": {},
     "outputs": [],
     "prompt_number": 22
    },
    {
     "cell_type": "code",
     "collapsed": false,
     "input": [
      "d = np.loadtxt(params['exc_spiketimes_fn_merged'])"
     ],
     "language": "python",
     "metadata": {},
     "outputs": [],
     "prompt_number": 23
    },
    {
     "cell_type": "code",
     "collapsed": false,
     "input": [
      "print np.unique(d[:, 0]).size\n",
      "print params['n_exc']\n",
      "cnt, bins = np.histogram(d[:, 0], bins=np.unique(d[:,0]))"
     ],
     "language": "python",
     "metadata": {},
     "outputs": [
      {
       "output_type": "stream",
       "stream": "stdout",
       "text": [
        "320\n",
        "320\n"
       ]
      }
     ],
     "prompt_number": 24
    },
    {
     "cell_type": "code",
     "collapsed": false,
     "input": [
      "pylab.bar(bins[:-1], cnt)"
     ],
     "language": "python",
     "metadata": {},
     "outputs": [
      {
       "metadata": {},
       "output_type": "pyout",
       "prompt_number": 25,
       "text": [
        "<Container object of 319 artists>"
       ]
      },
      {
       "metadata": {},
       "output_type": "display_data",
       "png": "[encoded data removed]",
       "text": [
        "<matplotlib.figure.Figure at 0x7fce69b46790>"
       ]
      }
     ],
     "prompt_number": 25
    },
    {
     "cell_type": "code",
     "collapsed": false,
     "input": [
      "np.mean(cnt), np.std(cnt), np.median(cnt)"
     ],
     "language": "python",
     "metadata": {},
     "outputs": [
      {
       "metadata": {},
       "output_type": "pyout",
       "prompt_number": 26,
       "text": [
        "(82.96238244514106, 83.222471581551389, 44.0)"
       ]
      }
     ],
     "prompt_number": 26
    },
    {
     "cell_type": "code",
     "collapsed": false,
     "input": [
      "np.argmax(cnt)"
     ],
     "language": "python",
     "metadata": {},
     "outputs": [
      {
       "metadata": {},
       "output_type": "pyout",
       "prompt_number": 27,
       "text": [
        "21"
       ]
      }
     ],
     "prompt_number": 27
    },
    {
     "cell_type": "code",
     "collapsed": false,
     "input": [
      "tp = np.loadtxt(params['tuning_prop_exc_fn'])"
     ],
     "language": "python",
     "metadata": {},
     "outputs": [],
     "prompt_number": 28
    },
    {
     "cell_type": "code",
     "collapsed": false,
     "input": [
      "print 'tuning prop of most active neuron:', tp[np.argmax(cnt), :]\n",
      "print cnt[np.argmax(cnt)]"
     ],
     "language": "python",
     "metadata": {},
     "outputs": [
      {
       "output_type": "stream",
       "stream": "stdout",
       "text": [
        "tuning prop of most active neuron: [ 0.07895262  0.5         0.          0.         -1.5831883 ]\n",
        "352\n"
       ]
      }
     ],
     "prompt_number": 29
    },
    {
     "cell_type": "code",
     "collapsed": false,
     "input": [
      "cnt[np.where(cnt > 1)[0]].mean()"
     ],
     "language": "python",
     "metadata": {},
     "outputs": [
      {
       "metadata": {},
       "output_type": "pyout",
       "prompt_number": 30,
       "text": [
        "83.740506329113927"
       ]
      }
     ],
     "prompt_number": 30
    },
    {
     "cell_type": "code",
     "collapsed": false,
     "input": [
      "mp = np.loadtxt(params['training_stimuli_fn'])"
     ],
     "language": "python",
     "metadata": {},
     "outputs": [],
     "prompt_number": 31
    },
    {
     "cell_type": "code",
     "collapsed": false,
     "input": [
      "mp"
     ],
     "language": "python",
     "metadata": {},
     "outputs": [
      {
       "metadata": {},
       "output_type": "pyout",
       "prompt_number": 32,
       "text": [
        "array([[  2.11293636e-02,   0.00000000e+00,   3.00000000e-01,\n",
        "          0.00000000e+00,   1.79758743e+02],\n",
        "       [  9.99198493e-01,   0.00000000e+00,  -3.00000000e-01,\n",
        "          0.00000000e+00,   1.79845412e+02],\n",
        "       [  1.45817850e-02,   0.00000000e+00,   3.00000000e-01,\n",
        "          0.00000000e+00,   9.33416826e-01],\n",
        "       [  7.64915898e-04,   0.00000000e+00,   3.00000000e-01,\n",
        "          0.00000000e+00,   1.78886041e+02],\n",
        "       [  1.82563826e-02,   0.00000000e+00,   3.00000000e-01,\n",
        "          0.00000000e+00,   9.84439960e-01],\n",
        "       [  9.99493950e-01,   0.00000000e+00,  -3.00000000e-01,\n",
        "          0.00000000e+00,   6.86825194e-01],\n",
        "       [  9.91259184e-01,   0.00000000e+00,  -3.00000000e-01,\n",
        "          0.00000000e+00,   1.79457985e+02],\n",
        "       [  4.63336005e-03,   0.00000000e+00,   3.00000000e-01,\n",
        "          0.00000000e+00,   1.79894235e+02],\n",
        "       [  9.82387296e-01,   0.00000000e+00,  -3.00000000e-01,\n",
        "          0.00000000e+00,   1.78783633e+02],\n",
        "       [  3.89031979e-03,   0.00000000e+00,   3.00000000e-01,\n",
        "          0.00000000e+00,   1.30342535e+00],\n",
        "       [  5.91234707e-03,   0.00000000e+00,   3.00000000e-01,\n",
        "          0.00000000e+00,   1.79569207e+02],\n",
        "       [  2.09751924e-02,   0.00000000e+00,   3.00000000e-01,\n",
        "          0.00000000e+00,   1.79198425e+02],\n",
        "       [  3.70884723e-02,   0.00000000e+00,   3.00000000e-01,\n",
        "          0.00000000e+00,   9.03677936e-01],\n",
        "       [  9.86136846e-01,   0.00000000e+00,  -3.00000000e-01,\n",
        "          0.00000000e+00,   1.16066426e+00],\n",
        "       [  9.67983846e-01,   0.00000000e+00,  -3.00000000e-01,\n",
        "          0.00000000e+00,   1.78752128e+02],\n",
        "       [  9.83243277e-01,   0.00000000e+00,  -3.00000000e-01,\n",
        "          0.00000000e+00,   1.79991997e+02],\n",
        "       [  9.70850083e-01,   0.00000000e+00,  -3.00000000e-01,\n",
        "          0.00000000e+00,   1.78622336e+02],\n",
        "       [  9.85391453e-01,   0.00000000e+00,  -3.00000000e-01,\n",
        "          0.00000000e+00,   7.31582987e-01],\n",
        "       [  9.74603995e-01,   0.00000000e+00,  -3.00000000e-01,\n",
        "          0.00000000e+00,   8.70618974e-02],\n",
        "       [  1.28417196e-02,   0.00000000e+00,   3.00000000e-01,\n",
        "          0.00000000e+00,   1.79659345e+02],\n",
        "       [  2.55674760e-02,   0.00000000e+00,   3.00000000e-01,\n",
        "          0.00000000e+00,   7.69560726e-01],\n",
        "       [  3.42510472e-02,   0.00000000e+00,   3.00000000e-01,\n",
        "          0.00000000e+00,   1.78436178e+02],\n",
        "       [  9.73788725e-01,   0.00000000e+00,  -3.00000000e-01,\n",
        "          0.00000000e+00,   6.16980523e-01],\n",
        "       [  1.04361800e-02,   0.00000000e+00,   3.00000000e-01,\n",
        "          0.00000000e+00,   1.79513683e+02],\n",
        "       [  1.61697447e-02,   0.00000000e+00,   3.00000000e-01,\n",
        "          0.00000000e+00,   1.25700678e-01],\n",
        "       [  9.63412437e-01,   0.00000000e+00,  -3.00000000e-01,\n",
        "          0.00000000e+00,   1.78489915e+02],\n",
        "       [  4.13192620e-03,   0.00000000e+00,   3.00000000e-01,\n",
        "          0.00000000e+00,   1.65291211e+00],\n",
        "       [  9.62341397e-01,   0.00000000e+00,  -3.00000000e-01,\n",
        "          0.00000000e+00,   1.29449101e+00],\n",
        "       [  9.93711075e-01,   0.00000000e+00,  -3.00000000e-01,\n",
        "          0.00000000e+00,   6.53393296e-02],\n",
        "       [  9.87269598e-01,   0.00000000e+00,  -3.00000000e-01,\n",
        "          0.00000000e+00,   1.79985493e+02],\n",
        "       [  2.42523253e-02,   0.00000000e+00,   3.00000000e-01,\n",
        "          0.00000000e+00,   1.78595224e+02],\n",
        "       [  9.61167609e-01,   0.00000000e+00,  -3.00000000e-01,\n",
        "          0.00000000e+00,   1.32180177e+00],\n",
        "       [  9.62645978e-01,   0.00000000e+00,  -3.00000000e-01,\n",
        "          0.00000000e+00,   1.79154143e+02],\n",
        "       [  2.14769200e-02,   0.00000000e+00,   3.00000000e-01,\n",
        "          0.00000000e+00,   8.14832872e-01],\n",
        "       [  4.00056244e-03,   0.00000000e+00,   3.00000000e-01,\n",
        "          0.00000000e+00,   1.78997027e+02],\n",
        "       [  9.75992068e-01,   0.00000000e+00,  -3.00000000e-01,\n",
        "          0.00000000e+00,   1.74033447e+00],\n",
        "       [  3.74332832e-02,   0.00000000e+00,   3.00000000e-01,\n",
        "          0.00000000e+00,   1.25334137e+00],\n",
        "       [  3.51348998e-02,   0.00000000e+00,   3.00000000e-01,\n",
        "          0.00000000e+00,   1.79613248e+02],\n",
        "       [  9.86270478e-01,   0.00000000e+00,  -3.00000000e-01,\n",
        "          0.00000000e+00,   6.65763979e-01],\n",
        "       [  8.91455272e-03,   0.00000000e+00,   3.00000000e-01,\n",
        "          0.00000000e+00,   1.79543577e+02],\n",
        "       [  9.89490170e-01,   0.00000000e+00,  -3.00000000e-01,\n",
        "          0.00000000e+00,   1.78307821e+02],\n",
        "       [  6.76101625e-03,   0.00000000e+00,   3.00000000e-01,\n",
        "          0.00000000e+00,   1.79069605e+02],\n",
        "       [  2.80168761e-03,   0.00000000e+00,   3.00000000e-01,\n",
        "          0.00000000e+00,   4.12299719e-01],\n",
        "       [  9.95827652e-01,   0.00000000e+00,  -3.00000000e-01,\n",
        "          0.00000000e+00,   1.78304229e+02],\n",
        "       [  3.42849967e-02,   0.00000000e+00,   3.00000000e-01,\n",
        "          0.00000000e+00,   1.79725343e+02],\n",
        "       [  9.75055566e-01,   0.00000000e+00,  -3.00000000e-01,\n",
        "          0.00000000e+00,   3.82742221e-03],\n",
        "       [  1.59924856e-02,   0.00000000e+00,   3.00000000e-01,\n",
        "          0.00000000e+00,   1.79653654e+02],\n",
        "       [  9.66393811e-01,   0.00000000e+00,  -3.00000000e-01,\n",
        "          0.00000000e+00,   1.78622569e+02],\n",
        "       [  9.76201425e-01,   0.00000000e+00,  -3.00000000e-01,\n",
        "          0.00000000e+00,   1.78597718e+02],\n",
        "       [  9.77270405e-01,   0.00000000e+00,  -3.00000000e-01,\n",
        "          0.00000000e+00,   1.79636980e+02]])"
       ]
      }
     ],
     "prompt_number": 32
    },
    {
     "cell_type": "code",
     "collapsed": false,
     "input": [
      "cnt_mp, bin_mp = np.histogram(mp[:, 4], np.arange(-3, 3., 0.1))"
     ],
     "language": "python",
     "metadata": {},
     "outputs": [],
     "prompt_number": 40
    },
    {
     "cell_type": "code",
     "collapsed": false,
     "input": [
      "pylab.bar(bin_mp[:-1], cnt_mp, width=bin_mp[1]-bin_mp[0])"
     ],
     "language": "python",
     "metadata": {},
     "outputs": [
      {
       "metadata": {},
       "output_type": "pyout",
       "prompt_number": 41,
       "text": [
        "<Container object of 59 artists>"
       ]
      },
      {
       "metadata": {},
       "output_type": "display_data",
       "png": "[encoded data removed]",
       "text": [
        "<matplotlib.figure.Figure at 0x7fce63c025d0>"
       ]
      }
     ],
     "prompt_number": 41
    },
    {
     "cell_type": "code",
     "collapsed": false,
     "input": [
      "cnt_tp, bin_tp = np.histogram(tp[:, 4], np.arange(-3, 3, .1))"
     ],
     "language": "python",
     "metadata": {},
     "outputs": [],
     "prompt_number": 42
    },
    {
     "cell_type": "code",
     "collapsed": false,
     "input": [
      "pylab.bar(bin_tp[:-1], cnt_tp, width=bin_tp[1]-bin_tp[0])"
     ],
     "language": "python",
     "metadata": {},
     "outputs": [
      {
       "metadata": {},
       "output_type": "pyout",
       "prompt_number": 43,
       "text": [
        "<Container object of 59 artists>"
       ]
      },
      {
       "metadata": {},
       "output_type": "display_data",
       "png": "[encoded data removed]",
       "text": [
        "<matplotlib.figure.Figure at 0x7fce63553a90>"
       ]
      }
     ],
     "prompt_number": 43
    },
    {
     "cell_type": "code",
     "collapsed": false,
     "input": [],
     "language": "python",
     "metadata": {},
     "outputs": []
    }
   ],
   "metadata": {}
  }
 ]
}