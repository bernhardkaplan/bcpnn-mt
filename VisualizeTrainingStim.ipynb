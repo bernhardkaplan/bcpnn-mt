{
 "metadata": {
  "name": ""
 },
 "nbformat": 3,
 "nbformat_minor": 0,
 "worksheets": [
  {
   "cells": [
    {
     "cell_type": "code",
     "collapsed": false,
     "input": [
      "import utils\n",
      "import numpy as np"
     ],
     "language": "python",
     "metadata": {},
     "outputs": [],
     "prompt_number": 1
    },
    {
     "cell_type": "code",
     "collapsed": false,
     "input": [
      "folder = 'TrainingSim_ClusterwithOrientation_10x1_0-80_taui20_nHC20_nMC8_blurXV_0.00_0.00_pi1.0e-04_v0.40-0.8_fmax250'\n",
      "params = utils.load_params(folder)\n",
      "training_stim = np.loadtxt(params['training_stimuli_fn'])"
     ],
     "language": "python",
     "metadata": {},
     "outputs": [],
     "prompt_number": 2
    },
    {
     "cell_type": "code",
     "collapsed": false,
     "input": [
      "v = training_stim[:, 2]\n",
      "colors = utils.get_colorlist_sorted(v)\n",
      "pylab.scatter(training_stim[:, 0], training_stim[:, 4], c=colors, linewidth=0)"
     ],
     "language": "python",
     "metadata": {},
     "outputs": [
      {
       "metadata": {},
       "output_type": "pyout",
       "prompt_number": 3,
       "text": [
        "<matplotlib.collections.PathCollection at 0x7f55b4444fd0>"
       ]
      },
      {
       "metadata": {},
       "output_type": "display_data",
       "png": "[encoded data removed]",
       "text": [
        "<matplotlib.figure.Figure at 0x7f55b40ef1d0>"
       ]
      }
     ],
     "prompt_number": 3
    },
    {
     "cell_type": "code",
     "collapsed": false,
     "input": [],
     "language": "python",
     "metadata": {},
     "outputs": []
    }
   ],
   "metadata": {}
  }
 ]
}